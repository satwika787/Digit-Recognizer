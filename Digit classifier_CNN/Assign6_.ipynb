{
  "nbformat": 4,
  "nbformat_minor": 0,
  "metadata": {
    "colab": {
      "provenance": []
    },
    "kernelspec": {
      "name": "python3",
      "display_name": "Python 3"
    },
    "language_info": {
      "name": "python"
    }
  },
  "cells": [
    {
      "cell_type": "code",
      "source": [
        "# Name: Sanapala Satwika\n",
        "# Roll number: 21ME10069"
      ],
      "metadata": {
        "id": "f70O3ruN6qc4"
      },
      "execution_count": 2,
      "outputs": []
    },
    {
      "cell_type": "code",
      "execution_count": 3,
      "metadata": {
        "id": "IO8NEE385epk"
      },
      "outputs": [],
      "source": [
        "import torch\n",
        "import torch.nn as nn\n",
        "import torchvision\n",
        "from torchvision import transforms, datasets\n",
        "from torch.utils.data import DataLoader, random_split\n",
        "import numpy as np\n",
        "import matplotlib.pyplot as plt"
      ]
    },
    {
      "cell_type": "code",
      "source": [
        "device = torch.device('cuda' if torch.cuda.is_available() else 'cpu')"
      ],
      "metadata": {
        "id": "_wfpXfOI5gFw"
      },
      "execution_count": 4,
      "outputs": []
    },
    {
      "cell_type": "code",
      "source": [
        "# Load MNIST dataset\n",
        "transform = transforms.Compose([\n",
        "    transforms.RandomRotation(10),\n",
        "    transforms.RandomHorizontalFlip(),\n",
        "    transforms.RandomCrop(28, padding=4),\n",
        "    transforms.ToTensor(),\n",
        "])"
      ],
      "metadata": {
        "id": "eb7n2edi5f2H"
      },
      "execution_count": 46,
      "outputs": []
    },
    {
      "cell_type": "code",
      "source": [
        "import zipfile\n",
        "\n",
        "with zipfile.ZipFile('/content/imbalanced_mnist (1).npz', 'r') as zip_ref:\n",
        "    zip_ref.extractall('/content/')"
      ],
      "metadata": {
        "id": "cFLug0855fvm"
      },
      "execution_count": 37,
      "outputs": []
    },
    {
      "cell_type": "code",
      "source": [
        "import torch\n",
        "from torch.utils.data import Dataset, DataLoader\n",
        "import numpy as np"
      ],
      "metadata": {
        "id": "gpMwXieN5fpp"
      },
      "execution_count": 38,
      "outputs": []
    },
    {
      "cell_type": "code",
      "source": [
        "class CustomDataset(Dataset):\n",
        "  def __init__(self, x_path, y_path, transform=None):\n",
        "    self.x_data = np.load(x_path)\n",
        "    self.y_data = np.load(y_path)\n",
        "    self.transform = transform\n",
        "\n",
        "  def __len__(self):\n",
        "    return len(self.x_data)\n",
        "\n",
        "  def __getitem__(self, idx):\n",
        "    x = self.x_data[idx]\n",
        "    y = self.y_data[idx]\n",
        "\n",
        "    if self.transform:\n",
        "      x = self.transform(x)\n",
        "\n",
        "    return x,y\n",
        "\n",
        "\n",
        "train_x_path = '/content/X_train.npy'\n",
        "train_y_path = '/content/y_train.npy'\n",
        "test_x_path = '/content/X_test.npy'\n",
        "test_y_path = '/content/y_test.npy'\n",
        "\n",
        "train_dataset =CustomDataset(train_x_path, train_y_path, transform = transform)\n",
        "test_dataset = CustomDataset(test_x_path, test_y_path)"
      ],
      "metadata": {
        "id": "-jXaJ4CSXaMH"
      },
      "execution_count": 41,
      "outputs": []
    },
    {
      "cell_type": "code",
      "source": [
        "train_size = int(0.8*len(train_dataset))\n",
        "val_size = len(train_dataset) - train_size\n",
        "train_dataset, val_dataset = random_split(train_dataset,[train_size, val_size])"
      ],
      "metadata": {
        "id": "Byex7Leb5fjM"
      },
      "execution_count": 42,
      "outputs": []
    },
    {
      "cell_type": "code",
      "source": [
        "# Create data loaders\n",
        "train_loader =DataLoader(train_dataset, batch_size=32, shuffle= True)\n",
        "test_loader = DataLoader(test_dataset, batch_size=32, shuffle= False)\n",
        "val_loader = DataLoader(val_dataset, batch_size=32, shuffle=False)"
      ],
      "metadata": {
        "id": "SzYk1md95fcV"
      },
      "execution_count": 43,
      "outputs": []
    },
    {
      "cell_type": "code",
      "source": [
        "#neural network model\n",
        "class NeuralNet(nn.Module):\n",
        "  def __init__(self, input_size=784, hidden_size=128, num_classes=10):\n",
        "    super(NeuralNet, self).__init__()\n",
        "    self.fc1 = nn.Linear(input_size, hidden_size)\n",
        "    self.relu = nn.ReLU()\n",
        "    self.fc2 = nn.Linear(hidden_size, num_classes)\n",
        "\n",
        "  def forward(self,x):\n",
        "    x=x.view(x.size(0), -1)\n",
        "    x=self.fc1(x)\n",
        "    x=self.relu(x)\n",
        "    x=self.fc2(x)\n",
        "    return x"
      ],
      "metadata": {
        "id": "srS4BYo05fWI"
      },
      "execution_count": 44,
      "outputs": []
    },
    {
      "cell_type": "code",
      "source": [
        "import torch.optim as optim"
      ],
      "metadata": {
        "id": "Oa1jURMsHo1e"
      },
      "execution_count": 52,
      "outputs": []
    },
    {
      "cell_type": "code",
      "source": [
        "# Define hyperparameters grid\n",
        "hidden_sizes = [128, 256, 512]\n",
        "learning_rates = [0.001, 0.01, 0.1]\n",
        "best_accuracy = 0\n",
        "best_hyperparameters = None\n",
        "\n",
        "# Hyperparameter Tuning\n",
        "for hidden_size in hidden_sizes:\n",
        "    for lr in learning_rates:\n",
        "        model = NeuralNet(hidden_size=hidden_size)\n",
        "        criterion = nn.CrossEntropyLoss()\n",
        "        optimizer = optim.SGD(model.parameters(), lr=lr)\n",
        "\n",
        "        train_losses, validation_losses = train_model(model, criterion, optimizer, train_loader, val_loader)\n",
        "\n",
        "        # Evaluate model on validation set\n",
        "        model.eval()\n",
        "        correct = 0\n",
        "        total = 0\n",
        "        with torch.no_grad():\n",
        "            for images, labels in val_loader:\n",
        "                outputs = model(images)\n",
        "                _, predicted = torch.max(outputs.data, 1)\n",
        "                total += labels.size(0)\n",
        "                correct += (predicted == labels).sum().item()\n",
        "        accuracy = correct / total\n",
        "\n",
        "        if accuracy > best_accuracy:\n",
        "            best_accuracy = accuracy\n",
        "            best_hyperparameters = {'hidden_size': hidden_size, 'learning_rate': lr}\n",
        "\n",
        "# Train the model using the best hyperparameters\n",
        "best_model = NeuralNet(hidden_size=best_hyperparameters['hidden_size'])\n",
        "criterion = nn.CrossEntropyLoss()\n",
        "optimizer = optim.SGD(best_model.parameters(), lr=best_hyperparameters['learning_rate'])\n",
        "\n",
        "train_losses, validation_losses = train_model(best_model, criterion, optimizer, train_loader, val_loader)\n"
      ],
      "metadata": {
        "colab": {
          "base_uri": "https://localhost:8080/",
          "height": 1000
        },
        "id": "zmv5QTFbHoyV",
        "outputId": "d2a52e76-fd40-40af-c033-dbb9ef35a71c"
      },
      "execution_count": 51,
      "outputs": [
        {
          "output_type": "stream",
          "name": "stdout",
          "text": [
            "Epoch [1/10], Train Loss: 2.1795, Validation Loss: 2.0256\n",
            "Epoch [2/10], Train Loss: 1.8358, Validation Loss: 1.6290\n",
            "Epoch [3/10], Train Loss: 1.4376, Validation Loss: 1.2504\n",
            "Epoch [4/10], Train Loss: 1.1142, Validation Loss: 0.9834\n",
            "Epoch [5/10], Train Loss: 0.9002, Validation Loss: 0.8141\n",
            "Epoch [6/10], Train Loss: 0.7642, Validation Loss: 0.7049\n",
            "Epoch [7/10], Train Loss: 0.6739, Validation Loss: 0.6304\n",
            "Epoch [8/10], Train Loss: 0.6103, Validation Loss: 0.5767\n",
            "Epoch [9/10], Train Loss: 0.5634, Validation Loss: 0.5365\n",
            "Epoch [10/10], Train Loss: 0.5277, Validation Loss: 0.5054\n",
            "Epoch [1/10], Train Loss: 1.0771, Validation Loss: 0.5121\n",
            "Epoch [2/10], Train Loss: 0.4384, Validation Loss: 0.3812\n",
            "Epoch [3/10], Train Loss: 0.3632, Validation Loss: 0.3435\n",
            "Epoch [4/10], Train Loss: 0.3295, Validation Loss: 0.3174\n",
            "Epoch [5/10], Train Loss: 0.3072, Validation Loss: 0.2989\n",
            "Epoch [6/10], Train Loss: 0.2888, Validation Loss: 0.2860\n",
            "Epoch [7/10], Train Loss: 0.2732, Validation Loss: 0.2703\n",
            "Epoch [8/10], Train Loss: 0.2584, Validation Loss: 0.2582\n",
            "Epoch [9/10], Train Loss: 0.2447, Validation Loss: 0.2464\n",
            "Epoch [10/10], Train Loss: 0.2324, Validation Loss: 0.2360\n",
            "Epoch [1/10], Train Loss: 0.4080, Validation Loss: 0.2509\n",
            "Epoch [2/10], Train Loss: 0.1965, Validation Loss: 0.1875\n",
            "Epoch [3/10], Train Loss: 0.1404, Validation Loss: 0.1519\n",
            "Epoch [4/10], Train Loss: 0.1094, Validation Loss: 0.1249\n",
            "Epoch [5/10], Train Loss: 0.0885, Validation Loss: 0.1020\n",
            "Epoch [6/10], Train Loss: 0.0738, Validation Loss: 0.0977\n",
            "Epoch [7/10], Train Loss: 0.0626, Validation Loss: 0.0987\n",
            "Epoch [8/10], Train Loss: 0.0541, Validation Loss: 0.0935\n",
            "Epoch [9/10], Train Loss: 0.0466, Validation Loss: 0.0907\n",
            "Epoch [10/10], Train Loss: 0.0405, Validation Loss: 0.0832\n",
            "Epoch [1/10], Train Loss: 2.1735, Validation Loss: 2.0248\n",
            "Epoch [2/10], Train Loss: 1.8329, Validation Loss: 1.6197\n",
            "Epoch [3/10], Train Loss: 1.4161, Validation Loss: 1.2185\n",
            "Epoch [4/10], Train Loss: 1.0799, Validation Loss: 0.9484\n",
            "Epoch [5/10], Train Loss: 0.8682, Validation Loss: 0.7845\n",
            "Epoch [6/10], Train Loss: 0.7382, Validation Loss: 0.6811\n",
            "Epoch [7/10], Train Loss: 0.6532, Validation Loss: 0.6115\n",
            "Epoch [8/10], Train Loss: 0.5940, Validation Loss: 0.5614\n",
            "Epoch [9/10], Train Loss: 0.5505, Validation Loss: 0.5241\n",
            "Epoch [10/10], Train Loss: 0.5172, Validation Loss: 0.4952\n",
            "Epoch [1/10], Train Loss: 1.0470, Validation Loss: 0.4995\n",
            "Epoch [2/10], Train Loss: 0.4306, Validation Loss: 0.3749\n",
            "Epoch [3/10], Train Loss: 0.3574, Validation Loss: 0.3352\n",
            "Epoch [4/10], Train Loss: 0.3235, Validation Loss: 0.3076\n",
            "Epoch [5/10], Train Loss: 0.2995, Validation Loss: 0.2908\n",
            "Epoch [6/10], Train Loss: 0.2809, Validation Loss: 0.2736\n",
            "Epoch [7/10], Train Loss: 0.2647, Validation Loss: 0.2620\n",
            "Epoch [8/10], Train Loss: 0.2503, Validation Loss: 0.2499\n",
            "Epoch [9/10], Train Loss: 0.2374, Validation Loss: 0.2385\n",
            "Epoch [10/10], Train Loss: 0.2255, Validation Loss: 0.2269\n",
            "Epoch [1/10], Train Loss: 0.3982, Validation Loss: 0.2253\n",
            "Epoch [2/10], Train Loss: 0.1919, Validation Loss: 0.1887\n",
            "Epoch [3/10], Train Loss: 0.1350, Validation Loss: 0.1358\n",
            "Epoch [4/10], Train Loss: 0.1053, Validation Loss: 0.1206\n",
            "Epoch [5/10], Train Loss: 0.0841, Validation Loss: 0.1033\n",
            "Epoch [6/10], Train Loss: 0.0695, Validation Loss: 0.1059\n",
            "Epoch [7/10], Train Loss: 0.0576, Validation Loss: 0.0923\n",
            "Epoch [8/10], Train Loss: 0.0495, Validation Loss: 0.0912\n",
            "Epoch [9/10], Train Loss: 0.0413, Validation Loss: 0.0889\n",
            "Epoch [10/10], Train Loss: 0.0353, Validation Loss: 0.0837\n",
            "Epoch [1/10], Train Loss: 2.1300, Validation Loss: 1.9454\n",
            "Epoch [2/10], Train Loss: 1.7293, Validation Loss: 1.4982\n",
            "Epoch [3/10], Train Loss: 1.3042, Validation Loss: 1.1219\n",
            "Epoch [4/10], Train Loss: 1.0033, Validation Loss: 0.8890\n",
            "Epoch [5/10], Train Loss: 0.8216, Validation Loss: 0.7484\n",
            "Epoch [6/10], Train Loss: 0.7087, Validation Loss: 0.6573\n",
            "Epoch [7/10], Train Loss: 0.6333, Validation Loss: 0.5950\n",
            "Epoch [8/10], Train Loss: 0.5796, Validation Loss: 0.5489\n",
            "Epoch [9/10], Train Loss: 0.5394, Validation Loss: 0.5143\n",
            "Epoch [10/10], Train Loss: 0.5084, Validation Loss: 0.4871\n",
            "Epoch [1/10], Train Loss: 0.9990, Validation Loss: 0.4849\n",
            "Epoch [2/10], Train Loss: 0.4214, Validation Loss: 0.3700\n",
            "Epoch [3/10], Train Loss: 0.3526, Validation Loss: 0.3308\n",
            "Epoch [4/10], Train Loss: 0.3191, Validation Loss: 0.3070\n",
            "Epoch [5/10], Train Loss: 0.2960, Validation Loss: 0.2864\n",
            "Epoch [6/10], Train Loss: 0.2766, Validation Loss: 0.2711\n",
            "Epoch [7/10], Train Loss: 0.2598, Validation Loss: 0.2570\n",
            "Epoch [8/10], Train Loss: 0.2449, Validation Loss: 0.2455\n",
            "Epoch [9/10], Train Loss: 0.2318, Validation Loss: 0.2337\n",
            "Epoch [10/10], Train Loss: 0.2200, Validation Loss: 0.2253\n",
            "Epoch [1/10], Train Loss: 0.3880, Validation Loss: 0.2316\n",
            "Epoch [2/10], Train Loss: 0.1859, Validation Loss: 0.1679\n",
            "Epoch [3/10], Train Loss: 0.1298, Validation Loss: 0.1536\n",
            "Epoch [4/10], Train Loss: 0.0991, Validation Loss: 0.1186\n",
            "Epoch [5/10], Train Loss: 0.0789, Validation Loss: 0.1036\n",
            "Epoch [6/10], Train Loss: 0.0646, Validation Loss: 0.0885\n",
            "Epoch [7/10], Train Loss: 0.0537, Validation Loss: 0.1451\n",
            "Epoch [8/10], Train Loss: 0.0452, Validation Loss: 0.0887\n",
            "Epoch [9/10], Train Loss: 0.0377, Validation Loss: 0.0788\n",
            "Epoch [10/10], Train Loss: 0.0319, Validation Loss: 0.0799\n",
            "Epoch [1/10], Train Loss: 0.3998, Validation Loss: 0.3080\n",
            "Epoch [2/10], Train Loss: 0.1890, Validation Loss: 0.1698\n",
            "Epoch [3/10], Train Loss: 0.1347, Validation Loss: 0.1363\n",
            "Epoch [4/10], Train Loss: 0.1037, Validation Loss: 0.1101\n",
            "Epoch [5/10], Train Loss: 0.0824, Validation Loss: 0.1004\n",
            "Epoch [6/10], Train Loss: 0.0682, Validation Loss: 0.0918\n",
            "Epoch [7/10], Train Loss: 0.0568, Validation Loss: 0.0901\n",
            "Epoch [8/10], Train Loss: 0.0488, Validation Loss: 0.0858\n",
            "Epoch [9/10], Train Loss: 0.0409, Validation Loss: 0.1141\n",
            "Epoch [10/10], Train Loss: 0.0354, Validation Loss: 0.0837\n"
          ]
        },
        {
          "output_type": "display_data",
          "data": {
            "text/plain": [
              "<Figure size 1000x800 with 2 Axes>"
            ],
            "image/png": "[encoded data removed]"
          },
          "metadata": {}
        }
      ]
    },
    {
      "cell_type": "code",
      "source": [
        "# Visualize training and validation loss\n",
        "plt.figure(figsize=(10, 5))\n",
        "plt.plot(train_losses, label='Training Loss')\n",
        "plt.plot(validation_losses, label='Validation Loss')\n",
        "plt.xlabel('Epoch')\n",
        "plt.ylabel('Loss')\n",
        "plt.title('Training and Validation Loss')\n",
        "plt.legend()\n",
        "plt.show()"
      ],
      "metadata": {
        "colab": {
          "base_uri": "https://localhost:8080/",
          "height": 483
        },
        "id": "dTvOeXKjSw1Y",
        "outputId": "98869992-888c-4d95-cfd3-8c278e13e67e"
      },
      "execution_count": 53,
      "outputs": [
        {
          "output_type": "display_data",
          "data": {
            "text/plain": [
              "<Figure size 1000x500 with 1 Axes>"
            ],
            "image/png": "[encoded data removed]"
          },
          "metadata": {}
        }
      ]
    },
    {
      "cell_type": "code",
      "source": [
        "def evaluate_model(model, criterion, data_loader):\n",
        "    model.eval()\n",
        "    total_loss = 0.0\n",
        "    correct = 0\n",
        "    total = 0\n",
        "    with torch.no_grad():\n",
        "        for images, labels in data_loader:\n",
        "            outputs = model(images)\n",
        "            loss = criterion(outputs, labels)\n",
        "            total_loss += loss.item()\n",
        "            _, predicted = torch.max(outputs.data, 1)\n",
        "            total += labels.size(0)\n",
        "            correct += (predicted == labels).sum().item()\n",
        "    accuracy = correct / total\n",
        "    average_loss = total_loss / len(data_loader)\n",
        "    return accuracy, average_loss\n",
        "\n",
        "# Evaluate the model on test set\n",
        "test_accuracy = evaluate_model(best_model, criterion, test_loader)\n",
        "print(test_accuracy)"
      ],
      "metadata": {
        "colab": {
          "base_uri": "https://localhost:8080/"
        },
        "id": "EyUEnanxNQPj",
        "outputId": "b3b4466a-c7df-4a1e-e674-807cf6177198"
      },
      "execution_count": 55,
      "outputs": [
        {
          "output_type": "stream",
          "name": "stdout",
          "text": [
            "(0.9774, 0.07809960060601737)\n"
          ]
        }
      ]
    },
    {
      "cell_type": "code",
      "source": [
        "for parameter in model.parameters():\n",
        "    print(parameter.shape)"
      ],
      "metadata": {
        "colab": {
          "base_uri": "https://localhost:8080/"
        },
        "id": "3aZOY31RNQNk",
        "outputId": "565f8f84-9324-456b-9873-93ced029e410"
      },
      "execution_count": 56,
      "outputs": [
        {
          "output_type": "stream",
          "name": "stdout",
          "text": [
            "torch.Size([512, 784])\n",
            "torch.Size([512])\n",
            "torch.Size([10, 512])\n",
            "torch.Size([10])\n"
          ]
        }
      ]
    },
    {
      "cell_type": "markdown",
      "source": [
        "Model Analysis"
      ],
      "metadata": {
        "id": "3z01pQWbU3hi"
      }
    },
    {
      "cell_type": "code",
      "source": [
        "# Calculate parameters\n",
        "def calculate_parameters(model):\n",
        "    return sum(p.numel() for p in model.parameters() if p.requires_grad)\n",
        "\n",
        "ffnn_parameters = calculate_parameters(best_model)\n",
        "\n",
        "print(f\"FNN: Number of Parameters - {ffnn_parameters}\")"
      ],
      "metadata": {
        "colab": {
          "base_uri": "https://localhost:8080/"
        },
        "id": "nDXj_Sthm7Ye",
        "outputId": "9c0b889b-a2fd-4879-a22b-26a7dad9d752"
      },
      "execution_count": 80,
      "outputs": [
        {
          "output_type": "stream",
          "name": "stdout",
          "text": [
            "FNN: Number of Parameters - 20490\n"
          ]
        }
      ]
    },
    {
      "cell_type": "code",
      "source": [
        "from flopth import flopth\n",
        "ffnn_flops, ffnn_params = flopth(model, in_size=(20,),show_detail=True)\n",
        "print(ffnn_flops, ffnn_params)"
      ],
      "metadata": {
        "id": "u0YKN_qRmlLO"
      },
      "execution_count": null,
      "outputs": []
    },
    {
      "cell_type": "markdown",
      "source": [
        "**Model Architecture**\n",
        "\n",
        "#### Model Architecture Description\n",
        "\n",
        "The neural network model used in this project is a multi-layer perceptron (MLP) designed for classifying grayscale images of handwritten digits from the MNIST dataset. Here's a breakdown of the layers used in the model:\n",
        "\n",
        "##### 1. Input Layer:\n",
        "- Purpose: Receives input images of size 28x28 pixels.\n",
        "- Functionality: Each pixel value represents the intensity of the corresponding pixel in the image.\n",
        "\n",
        "##### 2. Hidden Layers:\n",
        "- Purpose: Perform nonlinear transformations on the input features to learn hierarchical representations.\n",
        "- Functionality: Each hidden layer consists of densely connected neurons with ReLU activation functions. The number of neurons in each hidden layer is a hyperparameter that can be tuned.\n",
        "\n",
        "##### 3. Output Layer:\n",
        "- Purpose: Produces the final classification probabilities for each digit (0-9).\n",
        "- Functionality: The output layer is a fully connected layer with 10 neurons, each representing the probability of the input image belonging to a particular digit class. It utilizes a softmax activation function to convert raw scores into probabilities.\n",
        "\n",
        "#### Connectivity and Overall Architecture:\n",
        "\n",
        "- The input layer is connected to the first hidden layer, and subsequent hidden layers are sequentially connected to each other.\n",
        "- Each hidden layer applies a linear transformation followed by a ReLU activation function to its input.\n",
        "- The output layer receives the output of the last hidden layer and produces the final classification probabilities.\n",
        "- During training, the model learns to minimize the cross-entropy loss between predicted probabilities and ground truth labels using the Adam optimizer.\n",
        "\n",
        "### Conclusion\n",
        "\n",
        "The MLP architecture leverages multiple hidden layers with ReLU activation functions to learn complex patterns in the input images, enabling accurate classification of handwritten digits. By tuning the number of neurons in each hidden layer and the learning rate, the model's performance can be optimized for improved accuracy and generalization."
      ],
      "metadata": {
        "id": "F412Cas9QkVd"
      }
    },
    {
      "cell_type": "markdown",
      "source": [
        "**QUESTION 2 :\n",
        "CNN Model for MNIST Classification**"
      ],
      "metadata": {
        "id": "EZ7hu2agV2Ik"
      }
    },
    {
      "cell_type": "markdown",
      "source": [
        "Model Architecture"
      ],
      "metadata": {
        "id": "KCXw93SsWzZt"
      }
    },
    {
      "cell_type": "code",
      "source": [
        "import torch.nn as nn\n",
        "\n",
        "class CNN(nn.Module):\n",
        "    def __init__(self):\n",
        "        super(CNN, self).__init__()\n",
        "        self.conv1 = nn.Conv2d(1, 16, kernel_size=3, stride=1, padding=1)\n",
        "        self.relu1 = nn.ReLU()\n",
        "        self.pool1 = nn.MaxPool2d(kernel_size=2, stride=2)\n",
        "        self.conv2 = nn.Conv2d(16, 32, kernel_size=3, stride=1, padding=1)\n",
        "        self.relu2 = nn.ReLU()\n",
        "        self.pool2 = nn.MaxPool2d(kernel_size=2, stride=2)\n",
        "        self.fc = nn.Linear(7*7*32, 10)\n",
        "\n",
        "    def forward(self, x):\n",
        "        x = self.conv1(x)\n",
        "        x = self.relu1(x)\n",
        "        x = self.pool1(x)\n",
        "        x = self.conv2(x)\n",
        "        x = self.relu2(x)\n",
        "        x = self.pool2(x)\n",
        "        x = x.view(x.size(0), -1)\n",
        "        x = self.fc(x)\n",
        "        return x"
      ],
      "metadata": {
        "id": "PbEaPLfhNQLM"
      },
      "execution_count": 60,
      "outputs": []
    },
    {
      "cell_type": "markdown",
      "source": [
        "**Model Architecture Description**"
      ],
      "metadata": {
        "id": "ALE4tYiTlQv_"
      }
    },
    {
      "cell_type": "markdown",
      "source": [
        "\n",
        "###Convolutional Layer 1:\n",
        "\n",
        "-> Detects simple patterns like edges or textures in the input images.Applies a set of filters to the input image to create feature maps.Takes the raw input image and produces feature maps.\n",
        "\n",
        "###ReLU Activation 1:\n",
        "\n",
        "-> Introduces non-linearity to the model.Applies the ReLU activation function to the feature maps, which helps in capturing complex patterns.Receives feature maps from the convolutional layer and outputs transformed feature maps.\n",
        "\n",
        "###Max Pooling Layer 1:\n",
        "\n",
        "-> Reduces the spatial dimensions of the feature maps while retaining important information.Performs max pooling operation, selecting the maximum value from each patch of the feature maps.Receives feature maps from the ReLU activation layer and outputs downsampled feature maps.\n",
        "\n",
        "###Convolutional Layer 2:\n",
        "\n",
        "-> Extracts higher-level features by combining information from different parts of the image.Applies a new set of filters to the downsampled feature maps to create deeper representations.Takes downsampled feature maps from the max pooling layer and produces new feature maps.\n",
        "\n",
        "###ReLU Activation 2:\n",
        "\n",
        "-> Further enhances the model's ability to capture complex patterns.Applies the ReLU activation function to the feature maps from the second convolutional layer.Receives feature maps from the second convolutional layer and outputs transformed feature maps.\n",
        "\n",
        "###Max Pooling Layer 2:\n",
        "\n",
        "-> Continues reducing the spatial dimensions, focusing on the most relevant information.Performs max pooling operation on the feature maps from the second ReLU layer.Takes feature maps from the second ReLU activation layer and outputs further downsampled feature maps.\n",
        "\n",
        "###Fully Connected (Linear) Layer:\n",
        "\n",
        "-> Makes the final decision about the image's class based on the extracted features.Applies a linear transformation to the flattened feature maps, mapping them to the output classes.Takes flattened feature maps from the second max pooling layer and produces output logits for classification."
      ],
      "metadata": {
        "id": "z2u0IKrflUz8"
      }
    },
    {
      "cell_type": "code",
      "source": [
        "# Calculate the size of the tensor after the convolutional and pooling layers\n",
        "def calculate_conv_output_size(input_size, kernel_size, stride, padding):\n",
        "    output_size = ((input_size - kernel_size + 2 * padding) / stride) + 1\n",
        "    return int(output_size)\n",
        "\n",
        "# Example usage:\n",
        "input_size = 28  # Assuming input image size is 28x28\n",
        "conv1_output_size = calculate_conv_output_size(input_size, kernel_size=3, stride=1, padding=1)\n",
        "pool1_output_size = calculate_conv_output_size(conv1_output_size, kernel_size=2, stride=2, padding=0)\n",
        "conv2_output_size = calculate_conv_output_size(pool1_output_size, kernel_size=3, stride=1, padding=1)\n",
        "pool2_output_size = calculate_conv_output_size(conv2_output_size, kernel_size=2, stride=2, padding=0)\n",
        "\n",
        "print(\"Output size after Conv1:\", conv1_output_size)\n",
        "print(\"Output size after Pool1:\", pool1_output_size)\n",
        "print(\"Output size after Conv2:\", conv2_output_size)\n",
        "print(\"Output size after Pool2:\", pool2_output_size)\n"
      ],
      "metadata": {
        "colab": {
          "base_uri": "https://localhost:8080/"
        },
        "id": "T6z2iEhoj8g_",
        "outputId": "582c7b09-499c-41b6-d2c2-95adde713a77"
      },
      "execution_count": 70,
      "outputs": [
        {
          "output_type": "stream",
          "name": "stdout",
          "text": [
            "Output size after Conv1: 28\n",
            "Output size after Pool1: 14\n",
            "Output size after Conv2: 14\n",
            "Output size after Pool2: 7\n"
          ]
        }
      ]
    },
    {
      "cell_type": "markdown",
      "source": [
        "2. Hyperparameter Tuning"
      ],
      "metadata": {
        "id": "Oee3EvzyWtLa"
      }
    },
    {
      "cell_type": "code",
      "source": [
        "# Define hyperparameters grid\n",
        "filters = [(16, 32), (32, 64), (64, 128)]\n",
        "learning_rates = [0.001, 0.01, 0.1]\n",
        "best_accuracy = 0\n",
        "best_hyperparameters = None\n",
        "\n",
        "# Loop through the grid\n",
        "for filter_sizes in filters:\n",
        "    for lr in learning_rates:\n",
        "        model = CNN()\n",
        "        optimizer = optim.Adam(model.parameters(), lr=lr)\n",
        "        criterion = nn.CrossEntropyLoss()\n",
        "        train_losses, validation_losses = train_model(model, criterion, optimizer, train_loader, val_loader)\n",
        "        val_accuracy, _ = evaluate_model(model, criterion, val_loader)\n",
        "\n",
        "        if val_accuracy > best_accuracy:\n",
        "            best_accuracy = val_accuracy\n",
        "            best_hyperparameters = {'filters': filter_sizes, 'learning_rate': lr}\n"
      ],
      "metadata": {
        "colab": {
          "base_uri": "https://localhost:8080/"
        },
        "id": "IggZXOAsQlb7",
        "outputId": "7e4246de-5b6b-4460-b214-7d0258ad4292"
      },
      "execution_count": 61,
      "outputs": [
        {
          "output_type": "stream",
          "name": "stdout",
          "text": [
            "Epoch [1/10], Train Loss: 0.2326, Validation Loss: 0.0887\n",
            "Epoch [2/10], Train Loss: 0.0740, Validation Loss: 0.0609\n",
            "Epoch [3/10], Train Loss: 0.0550, Validation Loss: 0.0582\n",
            "Epoch [4/10], Train Loss: 0.0431, Validation Loss: 0.0527\n",
            "Epoch [5/10], Train Loss: 0.0364, Validation Loss: 0.0511\n",
            "Epoch [6/10], Train Loss: 0.0294, Validation Loss: 0.0532\n",
            "Epoch [7/10], Train Loss: 0.0251, Validation Loss: 0.0519\n",
            "Epoch [8/10], Train Loss: 0.0198, Validation Loss: 0.0525\n",
            "Epoch [9/10], Train Loss: 0.0186, Validation Loss: 0.0543\n",
            "Epoch [10/10], Train Loss: 0.0151, Validation Loss: 0.0510\n",
            "Epoch [1/10], Train Loss: 0.1875, Validation Loss: 0.1126\n",
            "Epoch [2/10], Train Loss: 0.0980, Validation Loss: 0.0816\n",
            "Epoch [3/10], Train Loss: 0.0893, Validation Loss: 0.0873\n",
            "Epoch [4/10], Train Loss: 0.0875, Validation Loss: 0.0860\n",
            "Epoch [5/10], Train Loss: 0.0849, Validation Loss: 0.0787\n",
            "Epoch [6/10], Train Loss: 0.0779, Validation Loss: 0.0948\n",
            "Epoch [7/10], Train Loss: 0.0805, Validation Loss: 0.1191\n",
            "Epoch [8/10], Train Loss: 0.0781, Validation Loss: 0.0877\n",
            "Epoch [9/10], Train Loss: 0.0750, Validation Loss: 0.1082\n",
            "Epoch [10/10], Train Loss: 0.0765, Validation Loss: 0.0951\n",
            "Epoch [1/10], Train Loss: 0.6371, Validation Loss: 0.5800\n",
            "Epoch [2/10], Train Loss: 0.5067, Validation Loss: 0.4531\n",
            "Epoch [3/10], Train Loss: 0.4957, Validation Loss: 0.4477\n",
            "Epoch [4/10], Train Loss: 0.4985, Validation Loss: 0.4452\n",
            "Epoch [5/10], Train Loss: 0.5003, Validation Loss: 0.5378\n",
            "Epoch [6/10], Train Loss: 0.5052, Validation Loss: 0.6244\n",
            "Epoch [7/10], Train Loss: 0.5016, Validation Loss: 0.4324\n",
            "Epoch [8/10], Train Loss: 0.4986, Validation Loss: 0.4401\n",
            "Epoch [9/10], Train Loss: 0.5014, Validation Loss: 0.5616\n",
            "Epoch [10/10], Train Loss: 0.5071, Validation Loss: 0.4814\n",
            "Epoch [1/10], Train Loss: 0.2527, Validation Loss: 0.0945\n",
            "Epoch [2/10], Train Loss: 0.0792, Validation Loss: 0.0733\n",
            "Epoch [3/10], Train Loss: 0.0585, Validation Loss: 0.0613\n",
            "Epoch [4/10], Train Loss: 0.0477, Validation Loss: 0.0839\n",
            "Epoch [5/10], Train Loss: 0.0399, Validation Loss: 0.0521\n",
            "Epoch [6/10], Train Loss: 0.0331, Validation Loss: 0.0546\n",
            "Epoch [7/10], Train Loss: 0.0289, Validation Loss: 0.0490\n",
            "Epoch [8/10], Train Loss: 0.0251, Validation Loss: 0.0489\n",
            "Epoch [9/10], Train Loss: 0.0203, Validation Loss: 0.0487\n",
            "Epoch [10/10], Train Loss: 0.0172, Validation Loss: 0.0646\n",
            "Epoch [1/10], Train Loss: 0.1390, Validation Loss: 0.0633\n",
            "Epoch [2/10], Train Loss: 0.0703, Validation Loss: 0.0650\n",
            "Epoch [3/10], Train Loss: 0.0589, Validation Loss: 0.0639\n",
            "Epoch [4/10], Train Loss: 0.0551, Validation Loss: 0.0715\n",
            "Epoch [5/10], Train Loss: 0.0536, Validation Loss: 0.0742\n",
            "Epoch [6/10], Train Loss: 0.0489, Validation Loss: 0.0872\n",
            "Epoch [7/10], Train Loss: 0.0497, Validation Loss: 0.0881\n",
            "Epoch [8/10], Train Loss: 0.0452, Validation Loss: 0.0736\n",
            "Epoch [9/10], Train Loss: 0.0472, Validation Loss: 0.0946\n",
            "Epoch [10/10], Train Loss: 0.0481, Validation Loss: 0.1096\n",
            "Epoch [1/10], Train Loss: 2.4459, Validation Loss: 2.3115\n",
            "Epoch [2/10], Train Loss: 2.3113, Validation Loss: 2.3051\n",
            "Epoch [3/10], Train Loss: 2.3115, Validation Loss: 2.3045\n",
            "Epoch [4/10], Train Loss: 2.3106, Validation Loss: 2.3086\n",
            "Epoch [5/10], Train Loss: 2.3116, Validation Loss: 2.3078\n",
            "Epoch [6/10], Train Loss: 2.3112, Validation Loss: 2.3268\n",
            "Epoch [7/10], Train Loss: 2.3110, Validation Loss: 2.3048\n",
            "Epoch [8/10], Train Loss: 2.3125, Validation Loss: 2.3040\n",
            "Epoch [9/10], Train Loss: 2.3116, Validation Loss: 2.3175\n",
            "Epoch [10/10], Train Loss: 2.3118, Validation Loss: 2.3089\n",
            "Epoch [1/10], Train Loss: 0.2226, Validation Loss: 0.0901\n",
            "Epoch [2/10], Train Loss: 0.0737, Validation Loss: 0.0616\n",
            "Epoch [3/10], Train Loss: 0.0556, Validation Loss: 0.0513\n",
            "Epoch [4/10], Train Loss: 0.0445, Validation Loss: 0.0532\n",
            "Epoch [5/10], Train Loss: 0.0368, Validation Loss: 0.0477\n",
            "Epoch [6/10], Train Loss: 0.0294, Validation Loss: 0.0436\n",
            "Epoch [7/10], Train Loss: 0.0253, Validation Loss: 0.0462\n",
            "Epoch [8/10], Train Loss: 0.0213, Validation Loss: 0.0457\n",
            "Epoch [9/10], Train Loss: 0.0172, Validation Loss: 0.0518\n",
            "Epoch [10/10], Train Loss: 0.0155, Validation Loss: 0.0550\n",
            "Epoch [1/10], Train Loss: 0.1674, Validation Loss: 0.0712\n",
            "Epoch [2/10], Train Loss: 0.0843, Validation Loss: 0.0762\n",
            "Epoch [3/10], Train Loss: 0.0741, Validation Loss: 0.0655\n",
            "Epoch [4/10], Train Loss: 0.0682, Validation Loss: 0.0714\n",
            "Epoch [5/10], Train Loss: 0.0660, Validation Loss: 0.0666\n",
            "Epoch [6/10], Train Loss: 0.0615, Validation Loss: 0.0842\n",
            "Epoch [7/10], Train Loss: 0.0652, Validation Loss: 0.0875\n",
            "Epoch [8/10], Train Loss: 0.0580, Validation Loss: 0.0945\n",
            "Epoch [9/10], Train Loss: 0.0555, Validation Loss: 0.0831\n",
            "Epoch [10/10], Train Loss: 0.0534, Validation Loss: 0.1067\n",
            "Epoch [1/10], Train Loss: 2.3616, Validation Loss: 2.3199\n",
            "Epoch [2/10], Train Loss: 2.3107, Validation Loss: 2.2989\n",
            "Epoch [3/10], Train Loss: 2.3108, Validation Loss: 2.3172\n",
            "Epoch [4/10], Train Loss: 2.3100, Validation Loss: 2.3035\n",
            "Epoch [5/10], Train Loss: 2.3109, Validation Loss: 2.3127\n",
            "Epoch [6/10], Train Loss: 2.3106, Validation Loss: 2.3059\n",
            "Epoch [7/10], Train Loss: 2.3106, Validation Loss: 2.3097\n",
            "Epoch [8/10], Train Loss: 2.3133, Validation Loss: 2.3143\n",
            "Epoch [9/10], Train Loss: 2.3114, Validation Loss: 2.3124\n",
            "Epoch [10/10], Train Loss: 2.3110, Validation Loss: 2.3039\n"
          ]
        }
      ]
    },
    {
      "cell_type": "markdown",
      "source": [
        "Model Training and Evaluation"
      ],
      "metadata": {
        "id": "AJu84oRKa6TF"
      }
    },
    {
      "cell_type": "code",
      "source": [
        "# Train the model using the best hyperparameters\n",
        "best_model = CNN()\n",
        "optimizer = optim.Adam(best_model.parameters(), lr=best_hyperparameters['learning_rate'])\n",
        "criterion = nn.CrossEntropyLoss()\n",
        "train_losses, validation_losses = train_model(best_model, criterion, optimizer, train_loader, val_loader)\n"
      ],
      "metadata": {
        "colab": {
          "base_uri": "https://localhost:8080/"
        },
        "id": "X8JxC0-eNQIy",
        "outputId": "5862f4df-05b0-43e7-e2c3-8154befc2331"
      },
      "execution_count": 62,
      "outputs": [
        {
          "output_type": "stream",
          "name": "stdout",
          "text": [
            "Epoch [1/10], Train Loss: 0.2315, Validation Loss: 0.0792\n",
            "Epoch [2/10], Train Loss: 0.0727, Validation Loss: 0.0751\n",
            "Epoch [3/10], Train Loss: 0.0539, Validation Loss: 0.0496\n",
            "Epoch [4/10], Train Loss: 0.0430, Validation Loss: 0.0525\n",
            "Epoch [5/10], Train Loss: 0.0362, Validation Loss: 0.0543\n",
            "Epoch [6/10], Train Loss: 0.0296, Validation Loss: 0.0555\n",
            "Epoch [7/10], Train Loss: 0.0257, Validation Loss: 0.0455\n",
            "Epoch [8/10], Train Loss: 0.0219, Validation Loss: 0.0473\n",
            "Epoch [9/10], Train Loss: 0.0188, Validation Loss: 0.0515\n",
            "Epoch [10/10], Train Loss: 0.0160, Validation Loss: 0.0550\n"
          ]
        }
      ]
    },
    {
      "cell_type": "code",
      "source": [
        "# Evaluate the model on validation set\n",
        "val_accuracy, val_loss = evaluate_model(best_model, criterion, val_loader)\n",
        "print(f\"Validation Accuracy: {val_accuracy:.4f}, Validation Loss: {val_loss:.4f}\")\n",
        "\n",
        "# Evaluate the model on test set\n",
        "test_accuracy, test_loss = evaluate_model(best_model, criterion, test_loader)\n",
        "print(f\"Test Accuracy: {test_accuracy:.4f}, Test Loss: {test_loss:.4f}\")\n",
        "\n",
        "# Visualize training and validation loss\n",
        "plt.figure(figsize=(8, 4))\n",
        "plt.plot(train_losses, label='Training Loss')\n",
        "plt.plot(validation_losses, label='Validation Loss')\n",
        "plt.xlabel('Epoch')\n",
        "plt.ylabel('Loss')\n",
        "plt.title('Training and Validation Loss')\n",
        "plt.legend()\n",
        "plt.show()"
      ],
      "metadata": {
        "colab": {
          "base_uri": "https://localhost:8080/",
          "height": 445
        },
        "id": "wKg7-pQtNQF-",
        "outputId": "d8989b3f-233d-47e4-86df-0a0cb06b185f"
      },
      "execution_count": 65,
      "outputs": [
        {
          "output_type": "stream",
          "name": "stdout",
          "text": [
            "Validation Accuracy: 0.9854, Validation Loss: 0.0548\n",
            "Test Accuracy: 0.9866, Test Loss: 0.0444\n"
          ]
        },
        {
          "output_type": "display_data",
          "data": {
            "text/plain": [
              "<Figure size 800x400 with 1 Axes>"
            ],
            "image/png": "[encoded data removed]"
          },
          "metadata": {}
        }
      ]
    },
    {
      "cell_type": "code",
      "source": [
        "from sklearn.metrics import precision_score, recall_score\n",
        "\n",
        "def calculate_precision_recall(model, data_loader):\n",
        "    model.eval()\n",
        "    y_true = []\n",
        "    y_pred = []\n",
        "    with torch.no_grad():\n",
        "        for images, labels in data_loader:\n",
        "            outputs = model(images)\n",
        "            _, predicted = torch.max(outputs, 1)\n",
        "            y_true.extend(labels.tolist())\n",
        "            y_pred.extend(predicted.tolist())\n",
        "    precision = precision_score(y_true, y_pred, average='macro')\n",
        "    recall = recall_score(y_true, y_pred, average='macro')\n",
        "    return precision, recall\n",
        "\n",
        "# Calculate precision and recall\n",
        "precision, recall = calculate_precision_recall(best_model, test_loader)\n",
        "print(f\"Precision: {precision}, Recall: {recall}\")"
      ],
      "metadata": {
        "colab": {
          "base_uri": "https://localhost:8080/"
        },
        "id": "37oxM7EbV5ZY",
        "outputId": "8fec5c5b-b96b-4b12-efe7-49ebdde44453"
      },
      "execution_count": 64,
      "outputs": [
        {
          "output_type": "stream",
          "name": "stdout",
          "text": [
            "Precision: 0.986631336030619, Recall: 0.9864951253266122\n"
          ]
        }
      ]
    },
    {
      "cell_type": "code",
      "source": [
        "import torch.autograd.profiler as profiler"
      ],
      "metadata": {
        "id": "W2gikAElV5V2"
      },
      "execution_count": 67,
      "outputs": []
    },
    {
      "cell_type": "code",
      "source": [
        "def calculate_parameters(model):\n",
        "    return sum(p.numel() for p in model.parameters() if p.requires_grad)"
      ],
      "metadata": {
        "id": "qwxRhCpjV5Sy"
      },
      "execution_count": 81,
      "outputs": []
    },
    {
      "cell_type": "code",
      "source": [
        "for parameter in model.parameters():\n",
        "    print(parameter.shape)"
      ],
      "metadata": {
        "colab": {
          "base_uri": "https://localhost:8080/"
        },
        "id": "ZyYu7N11mqi6",
        "outputId": "55f6acb6-e283-4656-9a6b-8201b230f363"
      },
      "execution_count": 74,
      "outputs": [
        {
          "output_type": "stream",
          "name": "stdout",
          "text": [
            "torch.Size([16, 1, 3, 3])\n",
            "torch.Size([16])\n",
            "torch.Size([32, 16, 3, 3])\n",
            "torch.Size([32])\n",
            "torch.Size([10, 1568])\n",
            "torch.Size([10])\n"
          ]
        }
      ]
    },
    {
      "cell_type": "code",
      "source": [
        "# Calculate and compare the number of trianble parameters\n",
        "cnn_parameters = calculate_parameters(best_model)\n",
        "print(f\"CNN: Number of Parameters - {cnn_parameters}\")"
      ],
      "metadata": {
        "colab": {
          "base_uri": "https://localhost:8080/"
        },
        "id": "9JqASW9GmvxM",
        "outputId": "ae2bec50-8c59-4f20-e547-0c4fbda4a3e3"
      },
      "execution_count": 79,
      "outputs": [
        {
          "output_type": "stream",
          "name": "stdout",
          "text": [
            "CNN: Number of Parameters - 20490\n"
          ]
        }
      ]
    },
    {
      "cell_type": "code",
      "source": [
        "# Calculate and compare the number of  FLOPs\n",
        "from flopth import flopth\n",
        "cnn_flops, cnn_params = flopth(model, in_size=(20,),show_detail=True)\n",
        "print(cnn_flops, cnn_params)"
      ],
      "metadata": {
        "id": "Pxukk8hNpJEM"
      },
      "execution_count": null,
      "outputs": []
    },
    {
      "cell_type": "code",
      "source": [
        "# Compare the number of trainable parameters and FLOPs\n",
        "print(f\"CNN: Number of Parameters - {cnn_parameters}, FLOPs - {cnn_flops}\")\n",
        "print(f\"Feedforward NN: Number of Parameters - {ffnn_parameters}, FLOPs - {ffnn_flops}\")"
      ],
      "metadata": {
        "id": "iUyGFvDKn-bJ"
      },
      "execution_count": null,
      "outputs": []
    },
    {
      "cell_type": "code",
      "source": [],
      "metadata": {
        "id": "LZDuNv1xoRCn"
      },
      "execution_count": null,
      "outputs": []
    },
    {
      "cell_type": "code",
      "source": [],
      "metadata": {
        "id": "u6OJxYldoQ_Z"
      },
      "execution_count": null,
      "outputs": []
    }
  ]
}